{
 "cells": [
  {
   "cell_type": "code",
   "execution_count": 24,
   "metadata": {},
   "outputs": [],
   "source": [
    "import numpy as np\n",
    "import tensorflow as tf\n",
    "from tensorflow import keras\n",
    "from keras.layers import Dense, Input, Flatten, concatenate\n",
    "from keras import Model"
   ]
  },
  {
   "cell_type": "markdown",
   "metadata": {},
   "source": [
    "### Create layer architecture as specified in diagram\n",
    "\n",
    "#### 8 Inputs:\n",
    "- From Visible Image\n",
    "    - Laplacian Variance (Scalar)\n",
    "    - DCT Power Spectrum in the x-axis (1D Array)\n",
    "    - DCT Power Spectrum in the y-axis (1D Array)\n",
    "- From Infrared Image\n",
    "    - Laplacian Variance (Scalar)\n",
    "    - DCT Power Spectrum in the x-axis (1D Array)\n",
    "    - DCT Power Spectrum in the y-axis (1D Array)\n",
    "- From Lidar Point Cloud\n",
    "    - Pings vs. Depth Distribution (1D Array)\n",
    "    - Depth Map (2D Matrix)\n",
    "\n",
    "Abbreivations:\n",
    "- Laplacian Variance --> lapVar\n",
    "- DCT Power Spectrums --> dctPowerX, dctPowerY\n",
    "- Lidar Pings vs. Depth Distribution --> pingDist\n",
    "- Depth Map --> depthMap"
   ]
  },
  {
   "cell_type": "markdown",
   "metadata": {},
   "source": [
    "### Parameters"
   ]
  },
  {
   "cell_type": "code",
   "execution_count": 25,
   "metadata": {},
   "outputs": [],
   "source": [
    "dctPowerX_length = int(512/2)\n",
    "dctPowerY_length = int(620/2)\n",
    "pingDist_length = 100\n",
    "depthMap_dimensions = (25, 20)"
   ]
  },
  {
   "cell_type": "markdown",
   "metadata": {},
   "source": [
    "### Visible Inputs"
   ]
  },
  {
   "cell_type": "code",
   "execution_count": 26,
   "metadata": {},
   "outputs": [],
   "source": [
    "visible_lapVar = Input(shape=(1,),  # Scalar\n",
    "                       name=\"Visible_Laplacian_Variance\",\n",
    "                       dtype=\"float32\")\n",
    "\n",
    "visible_dctPowerX = Input(shape=(dctPowerX_length,), # 1D array\n",
    "                          name=\"Visible_Power_Spectrum_X\",\n",
    "                          dtype=\"float32\")\n",
    "\n",
    "visible_dctPowerY = Input(shape=(dctPowerY_length,), # 1D array\n",
    "                          name=\"Visible_Power_Spectrum_Y\",\n",
    "                          dtype=\"float32\")\n",
    "\n",
    "# Combine all 3 inputs into 1 layer\n",
    "visibleCombined = concatenate([visible_lapVar,\n",
    "                               visible_dctPowerX,\n",
    "                               visible_dctPowerY],\n",
    "                               name=\"Combined_Visible\")"
   ]
  },
  {
   "cell_type": "markdown",
   "metadata": {},
   "source": [
    "### Infrared Inputs"
   ]
  },
  {
   "cell_type": "code",
   "execution_count": 27,
   "metadata": {},
   "outputs": [],
   "source": [
    "infrared_lapVar = Input(shape=(1,),  # Scalar\n",
    "                       name=\"Infrared_Laplacian_Variance\",\n",
    "                       dtype=\"float32\")\n",
    "\n",
    "infrared_dctPowerX = Input(shape=(dctPowerX_length,), # 1D array\n",
    "                          name=\"Infrared_Power_Spectrum_X\",\n",
    "                          dtype=\"float32\")\n",
    "\n",
    "infrared_dctPowerY = Input(shape=(dctPowerY_length,), # 1D array\n",
    "                          name=\"Infrared_Power_Spectrum_Y\",\n",
    "                          dtype=\"float32\")\n",
    "\n",
    "# Combine all 3 inputs into 1 layer\n",
    "infraredCombined = concatenate([infrared_lapVar,\n",
    "                               infrared_dctPowerX,\n",
    "                               infrared_dctPowerY],\n",
    "                               name=\"Combined_Infrared\")"
   ]
  },
  {
   "cell_type": "markdown",
   "metadata": {},
   "source": [
    "### Lidar Inputs"
   ]
  },
  {
   "cell_type": "code",
   "execution_count": 28,
   "metadata": {},
   "outputs": [],
   "source": [
    "lidar_pingDist= Input(shape=(pingDist_length,),  # 1D array\n",
    "                      name=\"Lidar_Ping_Distribution\",\n",
    "                      dtype=\"float32\")\n",
    "\n",
    "lidar_depthMap = Input(shape=depthMap_dimensions, # 2D array\n",
    "                       name=\"Lidar_Depth_Map\",\n",
    "                       dtype=\"float32\")\n",
    "\n",
    "# Flatten depth map into 1D\n",
    "lidar_depthMapFlat = Flatten()(lidar_depthMap)\n",
    "\n",
    "# Combine all 2 inputs into 1 layer\n",
    "lidarCombined = concatenate([lidar_pingDist,\n",
    "                             lidar_depthMapFlat],\n",
    "                             name=\"Combined_Lidar\")"
   ]
  },
  {
   "cell_type": "markdown",
   "metadata": {},
   "source": [
    "### \"Intermediary\" dense layers for each instrument\n",
    "\n",
    "Prior to combining the data from all three cameras (visible, infrared, and\n",
    "Lidar), there will be a three dense layers that train on each camera\n",
    "individually. We hope this will better summarize the three data streams prior\n",
    "to combining all of them together."
   ]
  },
  {
   "cell_type": "code",
   "execution_count": 29,
   "metadata": {},
   "outputs": [],
   "source": [
    "neuronsPerLayer = 32  # Hm...\n",
    "\n",
    "visibleDense = Dense(units=neuronsPerLayer,\n",
    "                     activation=\"relu\",\n",
    "                     name=\"Visible_Dense_Layer\")(visibleCombined)\n",
    "\n",
    "infraredDense = Dense(units=neuronsPerLayer,\n",
    "                      activation=\"relu\",\n",
    "                      name=\"Infrared_Dense_Layer\")(infraredCombined)\n",
    "\n",
    "lidarDense = Dense(units=neuronsPerLayer,\n",
    "                      activation=\"relu\",\n",
    "                      name=\"Lidar_Dense_Layer\")(lidarCombined)\n",
    "\n",
    "allImageryCombined = concatenate([visibleDense,\n",
    "                                  infraredDense,\n",
    "                                  lidarDense],\n",
    "                                  name=\"Combined_Neurons\")"
   ]
  },
  {
   "cell_type": "markdown",
   "metadata": {},
   "source": [
    "### More Dense Layers\n",
    "\n",
    "Now that we have the imagery inputs in three separate dense layers, we can now feed these layers into more dense layers that integrate the data held by all instruments.\n",
    "\n",
    "How many layers are optimal for neural network training? There is no good, analytical way to determine this, but we will choose use 3 for our model. The number of neurons will decrease for the layers closer to the output, as the weights in the third layer should have more refinement and than the first layer.\n",
    "\n",
    "We will use the relu (rectified linear unit) activiation function, as this is the most basic activiation function and does not suffer from the vanishing gradient problem (cite this too).\n",
    "\n",
    "Future work could run a parameter study with the number of layers, the number of neurons within each layer, and the activiation function to determine the optimum configuration.\n",
    "\n",
    "https://www.v7labs.com/blog/neural-networks-activation-functions#h5\n"
   ]
  },
  {
   "cell_type": "code",
   "execution_count": 30,
   "metadata": {},
   "outputs": [],
   "source": [
    "neuronsInLayers = [64, 32, 16]  # This are arbitrarily-picked values\n",
    "\n",
    "firstDense = Dense(units=neuronsInLayers[0],\n",
    "                   activation=\"relu\",\n",
    "                   name=\"First_Dense_Layer\")(allImageryCombined)\n",
    "\n",
    "secondDense = Dense(units=neuronsInLayers[1],\n",
    "                   activation=\"relu\",\n",
    "                   name=\"Second_Dense_Layer\")(firstDense)\n",
    "\n",
    "thirdDense = Dense(units=neuronsInLayers[2],\n",
    "                   activation=\"relu\",\n",
    "                   name=\"Third_Dense_Layer\")(secondDense)"
   ]
  },
  {
   "cell_type": "markdown",
   "metadata": {},
   "source": [
    "### Output Layer\n",
    "\n",
    "Our neural network will have two outputs (neurons): the ML-derived estimate for meteorological optical range (MOR) and liquid water content (LWC) of the environment that was captured with the visible, infrared, and lidar cameras.\n",
    "\n",
    "We will use the Relu activation function again (instead of the linear activation function), as both MOR and LWC cannot be negative. In other words, an estimate of 0 (lower bound of Relu) is better than any negative estimate (lower bound of linear).\n",
    "\n",
    "https://towardsdatascience.com/deep-learning-which-loss-and-activation-functions-should-i-use-ac02f1c56aa8"
   ]
  },
  {
   "cell_type": "code",
   "execution_count": 31,
   "metadata": {},
   "outputs": [],
   "source": [
    "estimates = Dense(2,\n",
    "                  activation=\"relu\",\n",
    "                  name=\"MOR_and_LWC_estimates\")(thirdDense)"
   ]
  },
  {
   "cell_type": "markdown",
   "metadata": {},
   "source": [
    "### Putting everything together..."
   ]
  },
  {
   "cell_type": "code",
   "execution_count": 32,
   "metadata": {},
   "outputs": [],
   "source": [
    "neuralNetwork = Model(\n",
    "                      inputs=[visible_lapVar,\n",
    "                              visible_dctPowerX,\n",
    "                              visible_dctPowerY,\n",
    "                              infrared_lapVar,\n",
    "                              infrared_dctPowerX,\n",
    "                              infrared_dctPowerY,\n",
    "                              lidar_pingDist,\n",
    "                              lidar_depthMap],\n",
    "                      outputs=estimates\n",
    ")"
   ]
  },
  {
   "cell_type": "markdown",
   "metadata": {},
   "source": [
    "### Visualize Path of Data Through Neural Network"
   ]
  },
  {
   "cell_type": "code",
   "execution_count": 54,
   "metadata": {},
   "outputs": [
    {
     "name": "stdout",
     "output_type": "stream",
     "text": [
      "Model: \"model_1\"\n",
      "__________________________________________________________________________________________________\n",
      " Layer (type)                   Output Shape         Param #     Connected to                     \n",
      "==================================================================================================\n",
      " Lidar_Depth_Map (InputLayer)   [(None, 25, 20)]     0           []                               \n",
      "                                                                                                  \n",
      " Visible_Laplacian_Variance (In  [(None, 1)]         0           []                               \n",
      " putLayer)                                                                                        \n",
      "                                                                                                  \n",
      " Visible_Power_Spectrum_X (Inpu  [(None, 256)]       0           []                               \n",
      " tLayer)                                                                                          \n",
      "                                                                                                  \n",
      " Visible_Power_Spectrum_Y (Inpu  [(None, 310)]       0           []                               \n",
      " tLayer)                                                                                          \n",
      "                                                                                                  \n",
      " Infrared_Laplacian_Variance (I  [(None, 1)]         0           []                               \n",
      " nputLayer)                                                                                       \n",
      "                                                                                                  \n",
      " Infrared_Power_Spectrum_X (Inp  [(None, 256)]       0           []                               \n",
      " utLayer)                                                                                         \n",
      "                                                                                                  \n",
      " Infrared_Power_Spectrum_Y (Inp  [(None, 310)]       0           []                               \n",
      " utLayer)                                                                                         \n",
      "                                                                                                  \n",
      " Lidar_Ping_Distribution (Input  [(None, 100)]       0           []                               \n",
      " Layer)                                                                                           \n",
      "                                                                                                  \n",
      " flatten_1 (Flatten)            (None, 500)          0           ['Lidar_Depth_Map[0][0]']        \n",
      "                                                                                                  \n",
      " Combined_Visible (Concatenate)  (None, 567)         0           ['Visible_Laplacian_Variance[0][0\n",
      "                                                                 ]',                              \n",
      "                                                                  'Visible_Power_Spectrum_X[0][0]'\n",
      "                                                                 , 'Visible_Power_Spectrum_Y[0][0]\n",
      "                                                                 ']                               \n",
      "                                                                                                  \n",
      " Combined_Infrared (Concatenate  (None, 567)         0           ['Infrared_Laplacian_Variance[0][\n",
      " )                                                               0]',                             \n",
      "                                                                  'Infrared_Power_Spectrum_X[0][0]\n",
      "                                                                 ',                               \n",
      "                                                                  'Infrared_Power_Spectrum_Y[0][0]\n",
      "                                                                 ']                               \n",
      "                                                                                                  \n",
      " Combined_Lidar (Concatenate)   (None, 600)          0           ['Lidar_Ping_Distribution[0][0]',\n",
      "                                                                  'flatten_1[0][0]']              \n",
      "                                                                                                  \n",
      " Visible_Dense_Layer (Dense)    (None, 32)           18176       ['Combined_Visible[0][0]']       \n",
      "                                                                                                  \n",
      " Infrared_Dense_Layer (Dense)   (None, 32)           18176       ['Combined_Infrared[0][0]']      \n",
      "                                                                                                  \n",
      " Lidar_Dense_Layer (Dense)      (None, 32)           19232       ['Combined_Lidar[0][0]']         \n",
      "                                                                                                  \n",
      " Combined_Neurons (Concatenate)  (None, 96)          0           ['Visible_Dense_Layer[0][0]',    \n",
      "                                                                  'Infrared_Dense_Layer[0][0]',   \n",
      "                                                                  'Lidar_Dense_Layer[0][0]']      \n",
      "                                                                                                  \n",
      " First_Dense_Layer (Dense)      (None, 64)           6208        ['Combined_Neurons[0][0]']       \n",
      "                                                                                                  \n",
      " Second_Dense_Layer (Dense)     (None, 32)           2080        ['First_Dense_Layer[0][0]']      \n",
      "                                                                                                  \n",
      " Third_Dense_Layer (Dense)      (None, 16)           528         ['Second_Dense_Layer[0][0]']     \n",
      "                                                                                                  \n",
      " MOR_and_LWC_estimates (Dense)  (None, 2)            34          ['Third_Dense_Layer[0][0]']      \n",
      "                                                                                                  \n",
      "==================================================================================================\n",
      "Total params: 64,434\n",
      "Trainable params: 64,434\n",
      "Non-trainable params: 0\n",
      "__________________________________________________________________________________________________\n"
     ]
    }
   ],
   "source": [
    "neuralNetwork.summary()\n",
    "# keras.utils.plot_model(neuralNetwork, show_shapes=True)"
   ]
  },
  {
   "cell_type": "markdown",
   "metadata": {},
   "source": [
    "### Compile the Neural Network\n",
    "\n",
    "Add the loss function and optimizer."
   ]
  },
  {
   "cell_type": "code",
   "execution_count": 51,
   "metadata": {},
   "outputs": [],
   "source": [
    "neuralNetwork.compile(loss=\"mean_squared_error\",\n",
    "                      optimizer=\"sgd\",\n",
    "                      metrics=['mean_squared_error'])"
   ]
  },
  {
   "cell_type": "markdown",
   "metadata": {},
   "source": [
    "### Attempt training?"
   ]
  },
  {
   "cell_type": "code",
   "execution_count": 55,
   "metadata": {},
   "outputs": [
    {
     "name": "stdout",
     "output_type": "stream",
     "text": [
      "Epoch 1/1000\n",
      "7/7 [==============================] - 0s 35ms/step - loss: 0.2397 - mean_squared_error: 0.2397 - val_loss: 0.2498 - val_mean_squared_error: 0.2498\n",
      "Epoch 2/1000\n",
      "7/7 [==============================] - 0s 14ms/step - loss: 0.2345 - mean_squared_error: 0.2345 - val_loss: 0.2580 - val_mean_squared_error: 0.2580\n",
      "Epoch 3/1000\n",
      "7/7 [==============================] - 0s 13ms/step - loss: 0.2329 - mean_squared_error: 0.2329 - val_loss: 0.2534 - val_mean_squared_error: 0.2534\n",
      "Epoch 4/1000\n",
      "7/7 [==============================] - 0s 23ms/step - loss: 0.2284 - mean_squared_error: 0.2284 - val_loss: 0.2500 - val_mean_squared_error: 0.2500\n",
      "Epoch 5/1000\n",
      "7/7 [==============================] - 0s 17ms/step - loss: 0.2242 - mean_squared_error: 0.2242 - val_loss: 0.2601 - val_mean_squared_error: 0.2601\n",
      "Epoch 6/1000\n",
      "7/7 [==============================] - 0s 13ms/step - loss: 0.2247 - mean_squared_error: 0.2247 - val_loss: 0.2601 - val_mean_squared_error: 0.2601\n",
      "Epoch 7/1000\n",
      "7/7 [==============================] - 0s 14ms/step - loss: 0.2221 - mean_squared_error: 0.2221 - val_loss: 0.2498 - val_mean_squared_error: 0.2498\n",
      "Epoch 8/1000\n",
      "7/7 [==============================] - 0s 15ms/step - loss: 0.2180 - mean_squared_error: 0.2180 - val_loss: 0.2484 - val_mean_squared_error: 0.2484\n",
      "Epoch 9/1000\n",
      "7/7 [==============================] - 0s 13ms/step - loss: 0.2165 - mean_squared_error: 0.2165 - val_loss: 0.2407 - val_mean_squared_error: 0.2407\n",
      "Epoch 10/1000\n",
      "7/7 [==============================] - 0s 14ms/step - loss: 0.2151 - mean_squared_error: 0.2151 - val_loss: 0.2403 - val_mean_squared_error: 0.2403\n",
      "Epoch 11/1000\n",
      "7/7 [==============================] - 0s 16ms/step - loss: 0.2141 - mean_squared_error: 0.2141 - val_loss: 0.2475 - val_mean_squared_error: 0.2475\n",
      "Epoch 12/1000\n",
      "7/7 [==============================] - 0s 15ms/step - loss: 0.2127 - mean_squared_error: 0.2127 - val_loss: 0.2411 - val_mean_squared_error: 0.2411\n",
      "Epoch 13/1000\n",
      "7/7 [==============================] - 0s 15ms/step - loss: 0.2131 - mean_squared_error: 0.2131 - val_loss: 0.2404 - val_mean_squared_error: 0.2404\n",
      "Epoch 14/1000\n",
      "7/7 [==============================] - 0s 12ms/step - loss: 0.2106 - mean_squared_error: 0.2106 - val_loss: 0.2437 - val_mean_squared_error: 0.2437\n",
      "Epoch 15/1000\n",
      "7/7 [==============================] - 0s 12ms/step - loss: 0.2102 - mean_squared_error: 0.2102 - val_loss: 0.2415 - val_mean_squared_error: 0.2415\n",
      "Epoch 16/1000\n",
      "7/7 [==============================] - 0s 13ms/step - loss: 0.2089 - mean_squared_error: 0.2089 - val_loss: 0.2530 - val_mean_squared_error: 0.2530\n",
      "Epoch 17/1000\n",
      "7/7 [==============================] - 0s 11ms/step - loss: 0.2087 - mean_squared_error: 0.2087 - val_loss: 0.2449 - val_mean_squared_error: 0.2449\n",
      "Epoch 18/1000\n",
      "7/7 [==============================] - 0s 13ms/step - loss: 0.2077 - mean_squared_error: 0.2077 - val_loss: 0.2399 - val_mean_squared_error: 0.2399\n",
      "Epoch 19/1000\n",
      "7/7 [==============================] - 0s 11ms/step - loss: 0.2073 - mean_squared_error: 0.2073 - val_loss: 0.2410 - val_mean_squared_error: 0.2410\n",
      "Epoch 20/1000\n",
      "7/7 [==============================] - 0s 12ms/step - loss: 0.2057 - mean_squared_error: 0.2057 - val_loss: 0.2404 - val_mean_squared_error: 0.2404\n",
      "Epoch 21/1000\n",
      "7/7 [==============================] - 0s 14ms/step - loss: 0.2060 - mean_squared_error: 0.2060 - val_loss: 0.2603 - val_mean_squared_error: 0.2603\n",
      "Epoch 22/1000\n",
      "7/7 [==============================] - 0s 14ms/step - loss: 0.2079 - mean_squared_error: 0.2079 - val_loss: 0.2412 - val_mean_squared_error: 0.2412\n",
      "Epoch 23/1000\n",
      "7/7 [==============================] - 0s 12ms/step - loss: 0.2044 - mean_squared_error: 0.2044 - val_loss: 0.2399 - val_mean_squared_error: 0.2399\n",
      "Epoch 24/1000\n",
      "7/7 [==============================] - 0s 12ms/step - loss: 0.2047 - mean_squared_error: 0.2047 - val_loss: 0.2397 - val_mean_squared_error: 0.2397\n",
      "Epoch 25/1000\n",
      "7/7 [==============================] - 0s 12ms/step - loss: 0.2036 - mean_squared_error: 0.2036 - val_loss: 0.2403 - val_mean_squared_error: 0.2403\n",
      "Epoch 26/1000\n",
      "7/7 [==============================] - 0s 13ms/step - loss: 0.2035 - mean_squared_error: 0.2035 - val_loss: 0.2415 - val_mean_squared_error: 0.2415\n",
      "Epoch 27/1000\n",
      "7/7 [==============================] - 0s 14ms/step - loss: 0.2019 - mean_squared_error: 0.2019 - val_loss: 0.2392 - val_mean_squared_error: 0.2392\n",
      "Epoch 28/1000\n",
      "7/7 [==============================] - 0s 14ms/step - loss: 0.2017 - mean_squared_error: 0.2017 - val_loss: 0.2409 - val_mean_squared_error: 0.2409\n",
      "Epoch 29/1000\n",
      "7/7 [==============================] - 0s 12ms/step - loss: 0.2011 - mean_squared_error: 0.2011 - val_loss: 0.2452 - val_mean_squared_error: 0.2452\n",
      "Epoch 30/1000\n",
      "7/7 [==============================] - 0s 14ms/step - loss: 0.2009 - mean_squared_error: 0.2009 - val_loss: 0.2464 - val_mean_squared_error: 0.2464\n",
      "Epoch 31/1000\n",
      "7/7 [==============================] - 0s 15ms/step - loss: 0.1999 - mean_squared_error: 0.1999 - val_loss: 0.2410 - val_mean_squared_error: 0.2410\n",
      "Epoch 32/1000\n",
      "7/7 [==============================] - 0s 12ms/step - loss: 0.1995 - mean_squared_error: 0.1995 - val_loss: 0.2402 - val_mean_squared_error: 0.2402\n",
      "Epoch 33/1000\n",
      "7/7 [==============================] - 0s 12ms/step - loss: 0.1990 - mean_squared_error: 0.1990 - val_loss: 0.2403 - val_mean_squared_error: 0.2403\n",
      "Epoch 34/1000\n",
      "7/7 [==============================] - 0s 12ms/step - loss: 0.1983 - mean_squared_error: 0.1983 - val_loss: 0.2480 - val_mean_squared_error: 0.2480\n",
      "Epoch 35/1000\n",
      "7/7 [==============================] - 0s 11ms/step - loss: 0.1980 - mean_squared_error: 0.1980 - val_loss: 0.2525 - val_mean_squared_error: 0.2525\n",
      "Epoch 36/1000\n",
      "7/7 [==============================] - 0s 13ms/step - loss: 0.1984 - mean_squared_error: 0.1984 - val_loss: 0.2405 - val_mean_squared_error: 0.2405\n",
      "Epoch 37/1000\n",
      "7/7 [==============================] - 0s 12ms/step - loss: 0.1977 - mean_squared_error: 0.1977 - val_loss: 0.2512 - val_mean_squared_error: 0.2512\n",
      "Epoch 38/1000\n",
      "7/7 [==============================] - 0s 13ms/step - loss: 0.1972 - mean_squared_error: 0.1972 - val_loss: 0.2408 - val_mean_squared_error: 0.2408\n",
      "Epoch 39/1000\n",
      "7/7 [==============================] - 0s 12ms/step - loss: 0.1966 - mean_squared_error: 0.1966 - val_loss: 0.2471 - val_mean_squared_error: 0.2471\n",
      "Epoch 40/1000\n",
      "7/7 [==============================] - 0s 12ms/step - loss: 0.1964 - mean_squared_error: 0.1964 - val_loss: 0.2418 - val_mean_squared_error: 0.2418\n",
      "Epoch 41/1000\n",
      "7/7 [==============================] - 0s 12ms/step - loss: 0.1953 - mean_squared_error: 0.1953 - val_loss: 0.2548 - val_mean_squared_error: 0.2548\n",
      "Epoch 42/1000\n",
      "7/7 [==============================] - 0s 12ms/step - loss: 0.1966 - mean_squared_error: 0.1966 - val_loss: 0.2428 - val_mean_squared_error: 0.2428\n",
      "Epoch 43/1000\n",
      "7/7 [==============================] - 0s 13ms/step - loss: 0.1950 - mean_squared_error: 0.1950 - val_loss: 0.2433 - val_mean_squared_error: 0.2433\n",
      "Epoch 44/1000\n",
      "7/7 [==============================] - 0s 14ms/step - loss: 0.1951 - mean_squared_error: 0.1951 - val_loss: 0.2420 - val_mean_squared_error: 0.2420\n",
      "Epoch 45/1000\n",
      "7/7 [==============================] - 0s 15ms/step - loss: 0.1943 - mean_squared_error: 0.1943 - val_loss: 0.2402 - val_mean_squared_error: 0.2402\n",
      "Epoch 46/1000\n",
      "7/7 [==============================] - 0s 13ms/step - loss: 0.1944 - mean_squared_error: 0.1944 - val_loss: 0.2405 - val_mean_squared_error: 0.2405\n",
      "Epoch 47/1000\n",
      "7/7 [==============================] - 0s 13ms/step - loss: 0.1938 - mean_squared_error: 0.1938 - val_loss: 0.2408 - val_mean_squared_error: 0.2408\n",
      "Epoch 48/1000\n",
      "7/7 [==============================] - 0s 13ms/step - loss: 0.1932 - mean_squared_error: 0.1932 - val_loss: 0.2400 - val_mean_squared_error: 0.2400\n",
      "Epoch 49/1000\n",
      "7/7 [==============================] - 0s 12ms/step - loss: 0.1936 - mean_squared_error: 0.1936 - val_loss: 0.2439 - val_mean_squared_error: 0.2439\n",
      "Epoch 50/1000\n",
      "7/7 [==============================] - 0s 13ms/step - loss: 0.1927 - mean_squared_error: 0.1927 - val_loss: 0.2399 - val_mean_squared_error: 0.2399\n",
      "Epoch 51/1000\n",
      "7/7 [==============================] - 0s 11ms/step - loss: 0.1925 - mean_squared_error: 0.1925 - val_loss: 0.2410 - val_mean_squared_error: 0.2410\n",
      "Epoch 52/1000\n",
      "7/7 [==============================] - 0s 13ms/step - loss: 0.1920 - mean_squared_error: 0.1920 - val_loss: 0.2407 - val_mean_squared_error: 0.2407\n",
      "Epoch 53/1000\n",
      "7/7 [==============================] - 0s 12ms/step - loss: 0.1917 - mean_squared_error: 0.1917 - val_loss: 0.2489 - val_mean_squared_error: 0.2489\n",
      "Epoch 54/1000\n",
      "7/7 [==============================] - 0s 12ms/step - loss: 0.1916 - mean_squared_error: 0.1916 - val_loss: 0.2423 - val_mean_squared_error: 0.2423\n",
      "Epoch 55/1000\n",
      "7/7 [==============================] - 0s 13ms/step - loss: 0.1908 - mean_squared_error: 0.1908 - val_loss: 0.2437 - val_mean_squared_error: 0.2437\n",
      "Epoch 56/1000\n",
      "7/7 [==============================] - 0s 13ms/step - loss: 0.1903 - mean_squared_error: 0.1903 - val_loss: 0.2452 - val_mean_squared_error: 0.2452\n",
      "Epoch 57/1000\n",
      "7/7 [==============================] - 0s 12ms/step - loss: 0.1903 - mean_squared_error: 0.1903 - val_loss: 0.2495 - val_mean_squared_error: 0.2495\n",
      "Epoch 58/1000\n",
      "7/7 [==============================] - 0s 12ms/step - loss: 0.1902 - mean_squared_error: 0.1902 - val_loss: 0.2483 - val_mean_squared_error: 0.2483\n",
      "Epoch 59/1000\n",
      "1/7 [===>..........................] - ETA: 0s - loss: 0.2252 - mean_squared_error: 0.2252"
     ]
    },
    {
     "ename": "KeyboardInterrupt",
     "evalue": "",
     "output_type": "error",
     "traceback": [
      "\u001b[1;31m---------------------------------------------------------------------------\u001b[0m",
      "\u001b[1;31mKeyboardInterrupt\u001b[0m                         Traceback (most recent call last)",
      "Cell \u001b[1;32mIn[55], line 30\u001b[0m\n\u001b[0;32m     26\u001b[0m \u001b[39m# Load in actual data\u001b[39;00m\n\u001b[0;32m     27\u001b[0m \u001b[39mimport\u001b[39;00m \u001b[39mNN_Functions\u001b[39;00m\n\u001b[1;32m---> 30\u001b[0m history \u001b[39m=\u001b[39m neuralNetwork\u001b[39m.\u001b[39;49mfit(inputs,\n\u001b[0;32m     31\u001b[0m                             outputs,\n\u001b[0;32m     32\u001b[0m                             epochs\u001b[39m=\u001b[39;49m\u001b[39m1000\u001b[39;49m,\n\u001b[0;32m     33\u001b[0m                             batch_size\u001b[39m=\u001b[39;49m\u001b[39m64\u001b[39;49m,  \u001b[39m# Number of images to process per weight-update\u001b[39;49;00m\n\u001b[0;32m     34\u001b[0m                             validation_split\u001b[39m=\u001b[39;49m\u001b[39m0.2\u001b[39;49m  \u001b[39m# Fraction of training data used exclusively for loss evaluation at the end of every epoch\u001b[39;49;00m\n\u001b[0;32m     35\u001b[0m )\n",
      "File \u001b[1;32mc:\\Users\\andy1\\AppData\\Local\\Programs\\Python\\Python310\\lib\\site-packages\\keras\\utils\\traceback_utils.py:64\u001b[0m, in \u001b[0;36mfilter_traceback.<locals>.error_handler\u001b[1;34m(*args, **kwargs)\u001b[0m\n\u001b[0;32m     62\u001b[0m filtered_tb \u001b[39m=\u001b[39m \u001b[39mNone\u001b[39;00m\n\u001b[0;32m     63\u001b[0m \u001b[39mtry\u001b[39;00m:\n\u001b[1;32m---> 64\u001b[0m   \u001b[39mreturn\u001b[39;00m fn(\u001b[39m*\u001b[39margs, \u001b[39m*\u001b[39m\u001b[39m*\u001b[39mkwargs)\n\u001b[0;32m     65\u001b[0m \u001b[39mexcept\u001b[39;00m \u001b[39mException\u001b[39;00m \u001b[39mas\u001b[39;00m e:  \u001b[39m# pylint: disable=broad-except\u001b[39;00m\n\u001b[0;32m     66\u001b[0m   filtered_tb \u001b[39m=\u001b[39m _process_traceback_frames(e\u001b[39m.\u001b[39m__traceback__)\n",
      "File \u001b[1;32mc:\\Users\\andy1\\AppData\\Local\\Programs\\Python\\Python310\\lib\\site-packages\\keras\\engine\\training.py:1445\u001b[0m, in \u001b[0;36mModel.fit\u001b[1;34m(self, x, y, batch_size, epochs, verbose, callbacks, validation_split, validation_data, shuffle, class_weight, sample_weight, initial_epoch, steps_per_epoch, validation_steps, validation_batch_size, validation_freq, max_queue_size, workers, use_multiprocessing)\u001b[0m\n\u001b[0;32m   1431\u001b[0m \u001b[39mif\u001b[39;00m \u001b[39mgetattr\u001b[39m(\u001b[39mself\u001b[39m, \u001b[39m'\u001b[39m\u001b[39m_eval_data_handler\u001b[39m\u001b[39m'\u001b[39m, \u001b[39mNone\u001b[39;00m) \u001b[39mis\u001b[39;00m \u001b[39mNone\u001b[39;00m:\n\u001b[0;32m   1432\u001b[0m   \u001b[39mself\u001b[39m\u001b[39m.\u001b[39m_eval_data_handler \u001b[39m=\u001b[39m data_adapter\u001b[39m.\u001b[39mget_data_handler(\n\u001b[0;32m   1433\u001b[0m       x\u001b[39m=\u001b[39mval_x,\n\u001b[0;32m   1434\u001b[0m       y\u001b[39m=\u001b[39mval_y,\n\u001b[1;32m   (...)\u001b[0m\n\u001b[0;32m   1443\u001b[0m       model\u001b[39m=\u001b[39m\u001b[39mself\u001b[39m,\n\u001b[0;32m   1444\u001b[0m       steps_per_execution\u001b[39m=\u001b[39m\u001b[39mself\u001b[39m\u001b[39m.\u001b[39m_steps_per_execution)\n\u001b[1;32m-> 1445\u001b[0m val_logs \u001b[39m=\u001b[39m \u001b[39mself\u001b[39;49m\u001b[39m.\u001b[39;49mevaluate(\n\u001b[0;32m   1446\u001b[0m     x\u001b[39m=\u001b[39;49mval_x,\n\u001b[0;32m   1447\u001b[0m     y\u001b[39m=\u001b[39;49mval_y,\n\u001b[0;32m   1448\u001b[0m     sample_weight\u001b[39m=\u001b[39;49mval_sample_weight,\n\u001b[0;32m   1449\u001b[0m     batch_size\u001b[39m=\u001b[39;49mvalidation_batch_size \u001b[39mor\u001b[39;49;00m batch_size,\n\u001b[0;32m   1450\u001b[0m     steps\u001b[39m=\u001b[39;49mvalidation_steps,\n\u001b[0;32m   1451\u001b[0m     callbacks\u001b[39m=\u001b[39;49mcallbacks,\n\u001b[0;32m   1452\u001b[0m     max_queue_size\u001b[39m=\u001b[39;49mmax_queue_size,\n\u001b[0;32m   1453\u001b[0m     workers\u001b[39m=\u001b[39;49mworkers,\n\u001b[0;32m   1454\u001b[0m     use_multiprocessing\u001b[39m=\u001b[39;49muse_multiprocessing,\n\u001b[0;32m   1455\u001b[0m     return_dict\u001b[39m=\u001b[39;49m\u001b[39mTrue\u001b[39;49;00m,\n\u001b[0;32m   1456\u001b[0m     _use_cached_eval_dataset\u001b[39m=\u001b[39;49m\u001b[39mTrue\u001b[39;49;00m)\n\u001b[0;32m   1457\u001b[0m val_logs \u001b[39m=\u001b[39m {\u001b[39m'\u001b[39m\u001b[39mval_\u001b[39m\u001b[39m'\u001b[39m \u001b[39m+\u001b[39m name: val \u001b[39mfor\u001b[39;00m name, val \u001b[39min\u001b[39;00m val_logs\u001b[39m.\u001b[39mitems()}\n\u001b[0;32m   1458\u001b[0m epoch_logs\u001b[39m.\u001b[39mupdate(val_logs)\n",
      "File \u001b[1;32mc:\\Users\\andy1\\AppData\\Local\\Programs\\Python\\Python310\\lib\\site-packages\\keras\\utils\\traceback_utils.py:64\u001b[0m, in \u001b[0;36mfilter_traceback.<locals>.error_handler\u001b[1;34m(*args, **kwargs)\u001b[0m\n\u001b[0;32m     62\u001b[0m filtered_tb \u001b[39m=\u001b[39m \u001b[39mNone\u001b[39;00m\n\u001b[0;32m     63\u001b[0m \u001b[39mtry\u001b[39;00m:\n\u001b[1;32m---> 64\u001b[0m   \u001b[39mreturn\u001b[39;00m fn(\u001b[39m*\u001b[39margs, \u001b[39m*\u001b[39m\u001b[39m*\u001b[39mkwargs)\n\u001b[0;32m     65\u001b[0m \u001b[39mexcept\u001b[39;00m \u001b[39mException\u001b[39;00m \u001b[39mas\u001b[39;00m e:  \u001b[39m# pylint: disable=broad-except\u001b[39;00m\n\u001b[0;32m     66\u001b[0m   filtered_tb \u001b[39m=\u001b[39m _process_traceback_frames(e\u001b[39m.\u001b[39m__traceback__)\n",
      "File \u001b[1;32mc:\\Users\\andy1\\AppData\\Local\\Programs\\Python\\Python310\\lib\\site-packages\\keras\\engine\\training.py:1750\u001b[0m, in \u001b[0;36mModel.evaluate\u001b[1;34m(self, x, y, batch_size, verbose, sample_weight, steps, callbacks, max_queue_size, workers, use_multiprocessing, return_dict, **kwargs)\u001b[0m\n\u001b[0;32m   1748\u001b[0m \u001b[39mself\u001b[39m\u001b[39m.\u001b[39m_test_counter\u001b[39m.\u001b[39massign(\u001b[39m0\u001b[39m)\n\u001b[0;32m   1749\u001b[0m callbacks\u001b[39m.\u001b[39mon_test_begin()\n\u001b[1;32m-> 1750\u001b[0m \u001b[39mfor\u001b[39;00m _, iterator \u001b[39min\u001b[39;00m data_handler\u001b[39m.\u001b[39menumerate_epochs():  \u001b[39m# Single epoch.\u001b[39;00m\n\u001b[0;32m   1751\u001b[0m   \u001b[39mself\u001b[39m\u001b[39m.\u001b[39mreset_metrics()\n\u001b[0;32m   1752\u001b[0m   \u001b[39mwith\u001b[39;00m data_handler\u001b[39m.\u001b[39mcatch_stop_iteration():\n",
      "File \u001b[1;32mc:\\Users\\andy1\\AppData\\Local\\Programs\\Python\\Python310\\lib\\site-packages\\keras\\engine\\data_adapter.py:1193\u001b[0m, in \u001b[0;36mDataHandler.enumerate_epochs\u001b[1;34m(self)\u001b[0m\n\u001b[0;32m   1191\u001b[0m \u001b[39m\u001b[39m\u001b[39m\"\"\"Yields `(epoch, tf.data.Iterator)`.\"\"\"\u001b[39;00m\n\u001b[0;32m   1192\u001b[0m \u001b[39mwith\u001b[39;00m \u001b[39mself\u001b[39m\u001b[39m.\u001b[39m_truncate_execution_to_epoch():\n\u001b[1;32m-> 1193\u001b[0m   data_iterator \u001b[39m=\u001b[39m \u001b[39miter\u001b[39;49m(\u001b[39mself\u001b[39;49m\u001b[39m.\u001b[39;49m_dataset)\n\u001b[0;32m   1194\u001b[0m   \u001b[39mfor\u001b[39;00m epoch \u001b[39min\u001b[39;00m \u001b[39mrange\u001b[39m(\u001b[39mself\u001b[39m\u001b[39m.\u001b[39m_initial_epoch, \u001b[39mself\u001b[39m\u001b[39m.\u001b[39m_epochs):\n\u001b[0;32m   1195\u001b[0m     \u001b[39mif\u001b[39;00m \u001b[39mself\u001b[39m\u001b[39m.\u001b[39m_insufficient_data:  \u001b[39m# Set by `catch_stop_iteration`.\u001b[39;00m\n",
      "File \u001b[1;32mc:\\Users\\andy1\\AppData\\Local\\Programs\\Python\\Python310\\lib\\site-packages\\tensorflow\\python\\data\\ops\\dataset_ops.py:494\u001b[0m, in \u001b[0;36mDatasetV2.__iter__\u001b[1;34m(self)\u001b[0m\n\u001b[0;32m    492\u001b[0m \u001b[39mif\u001b[39;00m context\u001b[39m.\u001b[39mexecuting_eagerly() \u001b[39mor\u001b[39;00m ops\u001b[39m.\u001b[39minside_function():\n\u001b[0;32m    493\u001b[0m   \u001b[39mwith\u001b[39;00m ops\u001b[39m.\u001b[39mcolocate_with(\u001b[39mself\u001b[39m\u001b[39m.\u001b[39m_variant_tensor):\n\u001b[1;32m--> 494\u001b[0m     \u001b[39mreturn\u001b[39;00m iterator_ops\u001b[39m.\u001b[39;49mOwnedIterator(\u001b[39mself\u001b[39;49m)\n\u001b[0;32m    495\u001b[0m \u001b[39melse\u001b[39;00m:\n\u001b[0;32m    496\u001b[0m   \u001b[39mraise\u001b[39;00m \u001b[39mRuntimeError\u001b[39;00m(\u001b[39m\"\u001b[39m\u001b[39m`tf.data.Dataset` only supports Python-style \u001b[39m\u001b[39m\"\u001b[39m\n\u001b[0;32m    497\u001b[0m                      \u001b[39m\"\u001b[39m\u001b[39miteration in eager mode or within tf.function.\u001b[39m\u001b[39m\"\u001b[39m)\n",
      "File \u001b[1;32mc:\\Users\\andy1\\AppData\\Local\\Programs\\Python\\Python310\\lib\\site-packages\\tensorflow\\python\\data\\ops\\iterator_ops.py:696\u001b[0m, in \u001b[0;36mOwnedIterator.__init__\u001b[1;34m(self, dataset, components, element_spec)\u001b[0m\n\u001b[0;32m    692\u001b[0m   \u001b[39mif\u001b[39;00m (components \u001b[39mis\u001b[39;00m \u001b[39mnot\u001b[39;00m \u001b[39mNone\u001b[39;00m \u001b[39mor\u001b[39;00m element_spec \u001b[39mis\u001b[39;00m \u001b[39mnot\u001b[39;00m \u001b[39mNone\u001b[39;00m):\n\u001b[0;32m    693\u001b[0m     \u001b[39mraise\u001b[39;00m \u001b[39mValueError\u001b[39;00m(\n\u001b[0;32m    694\u001b[0m         \u001b[39m\"\u001b[39m\u001b[39mWhen `dataset` is provided, `element_spec` and `components` must \u001b[39m\u001b[39m\"\u001b[39m\n\u001b[0;32m    695\u001b[0m         \u001b[39m\"\u001b[39m\u001b[39mnot be specified.\u001b[39m\u001b[39m\"\u001b[39m)\n\u001b[1;32m--> 696\u001b[0m   \u001b[39mself\u001b[39;49m\u001b[39m.\u001b[39;49m_create_iterator(dataset)\n\u001b[0;32m    698\u001b[0m \u001b[39mself\u001b[39m\u001b[39m.\u001b[39m_get_next_call_count \u001b[39m=\u001b[39m \u001b[39m0\u001b[39m\n",
      "File \u001b[1;32mc:\\Users\\andy1\\AppData\\Local\\Programs\\Python\\Python310\\lib\\site-packages\\tensorflow\\python\\data\\ops\\iterator_ops.py:721\u001b[0m, in \u001b[0;36mOwnedIterator._create_iterator\u001b[1;34m(self, dataset)\u001b[0m\n\u001b[0;32m    716\u001b[0m \u001b[39mwith\u001b[39;00m ops\u001b[39m.\u001b[39mcolocate_with(ds_variant):\n\u001b[0;32m    717\u001b[0m   \u001b[39mself\u001b[39m\u001b[39m.\u001b[39m_iterator_resource \u001b[39m=\u001b[39m (\n\u001b[0;32m    718\u001b[0m       gen_dataset_ops\u001b[39m.\u001b[39manonymous_iterator_v3(\n\u001b[0;32m    719\u001b[0m           output_types\u001b[39m=\u001b[39m\u001b[39mself\u001b[39m\u001b[39m.\u001b[39m_flat_output_types,\n\u001b[0;32m    720\u001b[0m           output_shapes\u001b[39m=\u001b[39m\u001b[39mself\u001b[39m\u001b[39m.\u001b[39m_flat_output_shapes))\n\u001b[1;32m--> 721\u001b[0m   gen_dataset_ops\u001b[39m.\u001b[39;49mmake_iterator(ds_variant, \u001b[39mself\u001b[39;49m\u001b[39m.\u001b[39;49m_iterator_resource)\n",
      "File \u001b[1;32mc:\\Users\\andy1\\AppData\\Local\\Programs\\Python\\Python310\\lib\\site-packages\\tensorflow\\python\\ops\\gen_dataset_ops.py:3408\u001b[0m, in \u001b[0;36mmake_iterator\u001b[1;34m(dataset, iterator, name)\u001b[0m\n\u001b[0;32m   3406\u001b[0m \u001b[39mif\u001b[39;00m tld\u001b[39m.\u001b[39mis_eager:\n\u001b[0;32m   3407\u001b[0m   \u001b[39mtry\u001b[39;00m:\n\u001b[1;32m-> 3408\u001b[0m     _result \u001b[39m=\u001b[39m pywrap_tfe\u001b[39m.\u001b[39;49mTFE_Py_FastPathExecute(\n\u001b[0;32m   3409\u001b[0m       _ctx, \u001b[39m\"\u001b[39;49m\u001b[39mMakeIterator\u001b[39;49m\u001b[39m\"\u001b[39;49m, name, dataset, iterator)\n\u001b[0;32m   3410\u001b[0m     \u001b[39mreturn\u001b[39;00m _result\n\u001b[0;32m   3411\u001b[0m   \u001b[39mexcept\u001b[39;00m _core\u001b[39m.\u001b[39m_NotOkStatusException \u001b[39mas\u001b[39;00m e:\n",
      "\u001b[1;31mKeyboardInterrupt\u001b[0m: "
     ]
    }
   ],
   "source": [
    "numCorrelatedImages = 500\n",
    "\n",
    "# Dummy input data\n",
    "fakeLidarDepthMap = np.random.rand(numCorrelatedImages, depthMap_dimensions[0], depthMap_dimensions[1])\n",
    "fakeLidarPingDist = np.random.rand(numCorrelatedImages, pingDist_length)\n",
    "\n",
    "fakeVisibleLapVar = np.random.rand(numCorrelatedImages)\n",
    "fakeVisibleDCT_X = np.random.rand(numCorrelatedImages, dctPowerX_length)\n",
    "fakeVisibleDCT_Y = np.random.rand(numCorrelatedImages, dctPowerY_length)\n",
    "\n",
    "fakeInfraredLapVar = np.random.rand(numCorrelatedImages)\n",
    "fakeInfraredDCT_X = np.random.rand(numCorrelatedImages, dctPowerX_length)\n",
    "fakeInfraredDCT_Y = np.random.rand(numCorrelatedImages, dctPowerY_length)\n",
    "\n",
    "inputs = {\"Lidar_Depth_Map\": fakeLidarDepthMap,\n",
    "          \"Lidar_Ping_Distribution\": fakeLidarPingDist,\n",
    "          \"Visible_Laplacian_Variance\": fakeVisibleLapVar,\n",
    "          \"Visible_Power_Spectrum_X\": fakeVisibleDCT_X,\n",
    "          \"Visible_Power_Spectrum_Y\": fakeVisibleDCT_Y,\n",
    "          \"Infrared_Laplacian_Variance\": fakeInfraredLapVar,\n",
    "          \"Infrared_Power_Spectrum_X\": fakeInfraredDCT_X,\n",
    "          \"Infrared_Power_Spectrum_Y\": fakeInfraredDCT_Y,}\n",
    "\n",
    "outputs = {\"MOR_and_LWC_estimates\": np.random.rand(numCorrelatedImages, 2)}\n",
    "\n",
    "# Load in actual data\n",
    "import NN_Functions\n",
    "\n",
    "# Get fog16 data\n",
    "(training_set, test_set) = NN_functions.getFog16Data()\n",
    "\n",
    "'''\n",
    "history = neuralNetwork.fit(inputs,\n",
    "                            outputs,\n",
    "                            epochs=1000,\n",
    "                            batch_size=64,  # Number of images to process per weight-update\n",
    "                            validation_split=0.2  # Fraction of training data used exclusively for loss evaluation at the end of every epoch\n",
    ")\n",
    "'''\n",
    "\n",
    "history = neuralNetwork.fit(training_set['inputs'], training_set['outputs'],\n",
    "                            epochs=1000, # Pick some random number lmao\n",
    "                            batch_size=64,  # Number of images to process per weight-update, typically a power of 2\n",
    "                            validation_split=0.2  # Fraction of training data reserved for loss calculation at every epoch's end)\n",
    ")"
   ]
  },
  {
   "cell_type": "code",
   "execution_count": 53,
   "metadata": {},
   "outputs": [
    {
     "data": {
      "text/plain": [
       "Text(100, 0.185, 'It goes down AYYYY')"
      ]
     },
     "execution_count": 53,
     "metadata": {},
     "output_type": "execute_result"
    },
    {
     "data": {
      "image/png": "[encoded data removed]",
      "text/plain": [
       "<Figure size 640x480 with 1 Axes>"
      ]
     },
     "metadata": {},
     "output_type": "display_data"
    }
   ],
   "source": [
    "# Plot loss?\n",
    "\n",
    "import matplotlib.pyplot as plt\n",
    "\n",
    "plt.grid(True)\n",
    "plt.plot(history.history['loss'])\n",
    "plt.xlabel(\"Epoch Number\")\n",
    "plt.ylabel(\"Mean Squared Error\")\n",
    "plt.title(\"Training on Literally Random Values\")\n",
    "plt.text(100, 0.185, \"It goes down AYYYY\")\n",
    "\n",
    "# Save the model\n",
    "# neuralNetwork.save(\"Testing Save Capability\")\n",
    "\n",
    "# To get it back into Python\n",
    "# readModel = keras.models.load_model(\"Testing Save Capability\")"
   ]
  }
 ],
 "metadata": {
  "kernelspec": {
   "display_name": "Python 3.10.0 64-bit",
   "language": "python",
   "name": "python3"
  },
  "language_info": {
   "codemirror_mode": {
    "name": "ipython",
    "version": 3
   },
   "file_extension": ".py",
   "mimetype": "text/x-python",
   "name": "python",
   "nbconvert_exporter": "python",
   "pygments_lexer": "ipython3",
   "version": "3.10.0"
  },
  "orig_nbformat": 4,
  "vscode": {
   "interpreter": {
    "hash": "893beae1faf9a25e7e032187e46ff014a0644016971b5a980b53e8109cc5709d"
   }
  }
 },
 "nbformat": 4,
 "nbformat_minor": 2
}
